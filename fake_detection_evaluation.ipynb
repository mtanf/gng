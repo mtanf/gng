{
 "cells": [
  {
   "cell_type": "code",
   "execution_count": 24,
   "id": "initial_id",
   "metadata": {
    "collapsed": true,
    "ExecuteTime": {
     "end_time": "2024-04-29T22:15:00.356241465Z",
     "start_time": "2024-04-29T22:15:00.277775668Z"
    }
   },
   "outputs": [],
   "source": [
    "import os\n",
    "import tensorflow as tf\n",
    "from tensorflow.keras.preprocessing.image import ImageDataGenerator\n",
    "from tensorflow.keras.models import load_model\n",
    "from deeplab_mdl_def import DynamicUpsample"
   ]
  },
  {
   "cell_type": "code",
   "outputs": [],
   "source": [
    "home_path = \"/repo/tanfoni/\"\n",
    "\n",
    "parent_dir_train = home_path + \"Dataset_merged/Train/\"\n",
    "real_dir_train = \"Real\"\n",
    "sint_dir_train = \"Fake\"\n",
    "\n",
    "parent_dir_val = home_path + \"Dataset_merged/Valid/\"\n",
    "real_dir_val = \"Real\"\n",
    "sint_dir_val = \"Fake\"\n",
    "\n",
    "parent_dir_test = home_path + \"Dataset_merged/Test/\"\n",
    "real_dir_test = \"Real\"\n",
    "sint_dir_test = \"Fake\"\n",
    "\n",
    "model_path = ('Results/'\n",
    "              'Deeplab+fake_detection/trained_models/'\n",
    "              'deeplab+fake_detection_transfer_learning_all_transfer_learning.h5') \n",
    "model = load_model(model_path, custom_objects={'DynamicUpsample': DynamicUpsample})"
   ],
   "metadata": {
    "collapsed": false,
    "ExecuteTime": {
     "end_time": "2024-04-29T22:15:01.538977599Z",
     "start_time": "2024-04-29T22:15:00.349586730Z"
    }
   },
   "id": "69ff3a315a384d4",
   "execution_count": 25
  },
  {
   "cell_type": "code",
   "outputs": [],
   "source": [
    "# Cell 3: Define data loading and augmentation parameters\n",
    "train_batch_size = 32  # Adjust these parameters as needed\n",
    "validation_batch_size = 32\n",
    "test_batch_size = 32\n",
    "resize_dim = (224, 224)  # Assuming 224x224 images for simplicity\n",
    "\n",
    "# Data augmentation configuration\n",
    "use_data_aug = True\n",
    "data_augmentation = ImageDataGenerator(\n",
    "    rotation_range=15,\n",
    "    width_shift_range=0.1,\n",
    "    height_shift_range=0.1,\n",
    "    shear_range=0.2,\n",
    "    zoom_range=0.2,\n",
    "    horizontal_flip=True,\n",
    "    fill_mode='nearest'\n",
    ") if use_data_aug else None\n",
    "\n"
   ],
   "metadata": {
    "collapsed": false,
    "ExecuteTime": {
     "end_time": "2024-04-29T22:15:01.539314374Z",
     "start_time": "2024-04-29T22:15:01.538894780Z"
    }
   },
   "id": "9e78a5b322fddcf2",
   "execution_count": 26
  },
  {
   "cell_type": "code",
   "outputs": [
    {
     "name": "stdout",
     "output_type": "stream",
     "text": [
      "Found 210000 images belonging to 2 classes.\n",
      "Found 30000 files belonging to 2 classes.\n",
      "Found 60000 files belonging to 2 classes.\n"
     ]
    }
   ],
   "source": [
    "if use_data_aug:\n",
    "    train_dataset = data_augmentation.flow_from_directory(\n",
    "        parent_dir_train,\n",
    "        target_size=resize_dim,\n",
    "        batch_size=train_batch_size,\n",
    "        class_mode='binary',\n",
    "        shuffle=True,\n",
    "        seed=123\n",
    "    )\n",
    "\n",
    "val_dataset = tf.keras.preprocessing.image_dataset_from_directory(\n",
    "    parent_dir_val,\n",
    "    labels=\"inferred\",\n",
    "    class_names=[real_dir_val, sint_dir_val],\n",
    "    label_mode='binary',\n",
    "    color_mode='rgb',\n",
    "    batch_size=validation_batch_size,\n",
    "    image_size=resize_dim,\n",
    "    shuffle=True,\n",
    "    seed=123\n",
    ")\n",
    "\n",
    "test_dataset = tf.keras.preprocessing.image_dataset_from_directory(\n",
    "    parent_dir_test,\n",
    "    labels=\"inferred\",\n",
    "    class_names=[real_dir_test, sint_dir_test],\n",
    "    label_mode='binary',\n",
    "    color_mode='rgb',\n",
    "    batch_size=test_batch_size,\n",
    "    image_size=resize_dim,\n",
    "    shuffle=True,\n",
    "    seed=123\n",
    ")"
   ],
   "metadata": {
    "collapsed": false,
    "ExecuteTime": {
     "end_time": "2024-04-29T22:15:04.640316437Z",
     "start_time": "2024-04-29T22:15:01.539033553Z"
    }
   },
   "id": "3f995e7a3b1f99b6",
   "execution_count": 27
  },
  {
   "cell_type": "code",
   "outputs": [],
   "source": [
    "n_fakes = len(os.listdir(os.path.join(parent_dir_train, sint_dir_train)))\n",
    "n_reals = len(os.listdir(os.path.join(parent_dir_train, real_dir_train)))\n",
    "total = n_fakes + n_reals\n",
    "weight_for_0 = (1 / n_reals) * total / 2.0\n",
    "weight_for_1 = (1 / n_fakes) * total / 2.0\n",
    "class_weights = {0: weight_for_0, 1: weight_for_1}"
   ],
   "metadata": {
    "collapsed": false,
    "ExecuteTime": {
     "end_time": "2024-04-29T22:15:04.705920688Z",
     "start_time": "2024-04-29T22:15:04.641318293Z"
    }
   },
   "id": "a4c355ae3caee7af",
   "execution_count": 28
  },
  {
   "cell_type": "code",
   "outputs": [
    {
     "name": "stdout",
     "output_type": "stream",
     "text": [
      "1875/1875 [==============================] - 53s 28ms/step - loss: 0.1692 - accuracy: 0.9342 - precision: 0.9509 - recall: 0.9505 - weighted_accuracy: 0.9342\n",
      "Test Loss: 0.1691867709159851\n",
      "Test Accuracy: 0.934249997138977\n",
      "Test Precision: 0.9509016871452332\n",
      "Test Recall: 0.9504500031471252\n",
      "Test F1 Score: 0.9506757914952857\n"
     ]
    }
   ],
   "source": [
    "test_loss, test_accuracy, test_precision, test_recall, test_weighted_accuracy = model.evaluate(test_dataset)\n",
    "test_f1 = 2 * (test_precision * test_recall) / (test_precision + test_recall) if (test_precision + test_recall) != 0 else 0\n",
    "\n",
    "print(f\"Test Loss: {test_loss}\")\n",
    "print(f\"Test Accuracy: {test_accuracy}\")\n",
    "print(f\"Test Precision: {test_precision}\")\n",
    "print(f\"Test Recall: {test_recall}\")\n",
    "print(f\"Test F1 Score: {test_f1}\")\n"
   ],
   "metadata": {
    "collapsed": false,
    "ExecuteTime": {
     "end_time": "2024-04-29T22:15:58.143962666Z",
     "start_time": "2024-04-29T22:15:04.706610556Z"
    }
   },
   "id": "2a9c1acc7e9012ac",
   "execution_count": 29
  },
  {
   "cell_type": "code",
   "outputs": [],
   "source": [],
   "metadata": {
    "collapsed": false,
    "ExecuteTime": {
     "end_time": "2024-04-29T22:15:58.144702599Z",
     "start_time": "2024-04-29T22:15:58.143330569Z"
    }
   },
   "id": "4b4953dff4b5b573",
   "execution_count": 29
  }
 ],
 "metadata": {
  "kernelspec": {
   "display_name": "Python 3",
   "language": "python",
   "name": "python3"
  },
  "language_info": {
   "codemirror_mode": {
    "name": "ipython",
    "version": 2
   },
   "file_extension": ".py",
   "mimetype": "text/x-python",
   "name": "python",
   "nbconvert_exporter": "python",
   "pygments_lexer": "ipython2",
   "version": "2.7.6"
  }
 },
 "nbformat": 4,
 "nbformat_minor": 5
}
