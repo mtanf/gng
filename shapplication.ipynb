{
 "cells": [
  {
   "cell_type": "code",
   "execution_count": 1,
   "id": "initial_id",
   "metadata": {
    "collapsed": true,
    "ExecuteTime": {
     "end_time": "2024-04-10T09:14:28.315193Z",
     "start_time": "2024-04-10T09:14:12.769992Z"
    }
   },
   "outputs": [
    {
     "name": "stderr",
     "output_type": "stream",
     "text": [
      "2024-04-10 11:14:18.125192: E tensorflow/compiler/xla/stream_executor/cuda/cuda_dnn.cc:9342] Unable to register cuDNN factory: Attempting to register factory for plugin cuDNN when one has already been registered\n",
      "2024-04-10 11:14:18.125253: E tensorflow/compiler/xla/stream_executor/cuda/cuda_fft.cc:609] Unable to register cuFFT factory: Attempting to register factory for plugin cuFFT when one has already been registered\n",
      "2024-04-10 11:14:18.125298: E tensorflow/compiler/xla/stream_executor/cuda/cuda_blas.cc:1518] Unable to register cuBLAS factory: Attempting to register factory for plugin cuBLAS when one has already been registered\n",
      "2024-04-10 11:14:18.139273: I tensorflow/core/platform/cpu_feature_guard.cc:182] This TensorFlow binary is optimized to use available CPU instructions in performance-critical operations.\n",
      "To enable the following instructions: AVX2 FMA, in other operations, rebuild TensorFlow with the appropriate compiler flags.\n"
     ]
    }
   ],
   "source": [
    "import json\n",
    "import keras\n",
    "\n",
    "from tensorflow.keras.applications.resnet50 import preprocess_input\n",
    "from tensorflow.keras.preprocessing import image\n",
    "\n",
    "import numpy as np\n",
    "from GNG_basic_model_definition import gng_basic\n",
    "import shap\n",
    "import matplotlib.pyplot as plt\n",
    "\n",
    "import os\n"
   ]
  },
  {
   "cell_type": "code",
   "outputs": [
    {
     "name": "stderr",
     "output_type": "stream",
     "text": [
      "2024-04-10 11:14:29.794394: I tensorflow/core/common_runtime/gpu/gpu_device.cc:1886] Created device /job:localhost/replica:0/task:0/device:GPU:0 with 898 MB memory:  -> device: 0, name: NVIDIA GeForce RTX 4090, pci bus id: 0000:01:00.0, compute capability: 8.9\n",
      "2024-04-10 11:14:29.796777: I tensorflow/core/common_runtime/gpu/gpu_device.cc:1886] Created device /job:localhost/replica:0/task:0/device:GPU:1 with 10391 MB memory:  -> device: 1, name: NVIDIA GeForce GTX 1080 Ti, pci bus id: 0000:02:00.0, compute capability: 6.1\n"
     ]
    }
   ],
   "source": [
    "gng_classifier = keras.models.load_model(\"trained_gng_basic/partial_models/gng_basic_partiallyTrained_epoch_001.hdf5\")\n",
    "\n",
    "os.environ[\"CUDA_VISIBLE_DEVICES\"] = \"1\""
   ],
   "metadata": {
    "collapsed": false,
    "ExecuteTime": {
     "end_time": "2024-04-10T09:14:36.376459Z",
     "start_time": "2024-04-10T09:14:28.317999Z"
    }
   },
   "id": "149c2aca34863278",
   "execution_count": 2
  },
  {
   "cell_type": "code",
   "outputs": [],
   "source": [
    "img_path = \"/home/tanfoni/homeRepo/tanfoni/Dataset_mtcnn_split/Test/Fake/mtcnn_stylegan3_folder_8_5752_face0.png\"\n",
    "img = image.load_img(img_path, target_size=(224, 224))\n",
    "img_array = image.img_to_array(img)\n",
    "img_array = np.expand_dims(img_array, axis=0)"
   ],
   "metadata": {
    "collapsed": false,
    "ExecuteTime": {
     "end_time": "2024-04-10T08:59:41.601365Z",
     "start_time": "2024-04-10T08:59:41.594251Z"
    }
   },
   "id": "61a7fec83c832d9d",
   "execution_count": 3
  },
  {
   "cell_type": "code",
   "outputs": [],
   "source": [
    "masker=shap.maskers.Image(\"inpaint_telea\", img_array[0].shape)\n",
    "explainer = shap.Explainer(gng_classifier,masker, output_names=[\"Real\", \"Fake\"])\n",
    "# shap_values = explainer(img_array, max_evals=1000, outputs=shap.Explanation.argsort.flip)\n"
   ],
   "metadata": {
    "collapsed": false,
    "ExecuteTime": {
     "end_time": "2024-04-10T09:15:01.307178Z",
     "start_time": "2024-04-10T09:14:52.094113Z"
    }
   },
   "id": "18911b04fbdccb62",
   "execution_count": 5
  },
  {
   "cell_type": "code",
   "outputs": [],
   "source": [
    "def shap_plot(model, explainer, X_shap, Y_shap, X_shap_print, shap_output_path, num_images_shap=1,j=0):\n",
    "    slice = X_shap[j:j+num_images_shap]\n",
    "    slice_print=X_shap_print[j:j+num_images_shap]\n",
    "    y_slice = Y_shap[j:j+num_images_shap]\n",
    "    shap_values = explainer(slice,\n",
    "                            outputs=shap.Explanation.argsort.flip[:num_images_shap],\n",
    "                            max_evals=1000)\n",
    "\n",
    "    predictions = model.predict(slice)\n",
    "    predictions_labels = np.where(predictions > 0.5, 1, 0)\n",
    "\n",
    "    predictions_to_plot = []\n",
    "    for i in range(num_images_shap):\n",
    "        predictions_to_plot.append(\n",
    "            \"Pred:{} | True:{}\".format(str(predictions_labels.transpose().tolist()[i]),\n",
    "                                       str(y_slice.transpose().tolist()[i])))\n",
    "    predictions_to_plot = np.array([[i] for i in predictions_to_plot])\n",
    "    plt.figure()\n",
    "    shap.image_plot(shap_values, pixel_values=slice_print, labels=predictions_to_plot, show=False)\n",
    "    if not os.path.isdir(shap_output_path):\n",
    "        os.makedirs(shap_output_path)\n",
    "    savepath = os.path.join(shap_output_path, \"Shap_results_{}_set{}.png\".format(\"pipo\",j))\n",
    "    plt.savefig(savepath)\n",
    "    plt.close(\"all\")\n",
    "\n",
    "    "
   ],
   "metadata": {
    "collapsed": false,
    "ExecuteTime": {
     "end_time": "2024-04-10T09:07:18.104736Z",
     "start_time": "2024-04-10T09:07:18.079441Z"
    }
   },
   "id": "791b9ab5ad1b8ae5",
   "execution_count": 10
  },
  {
   "cell_type": "code",
   "outputs": [
    {
     "data": {
      "text/plain": "  0%|          | 0/998 [00:00<?, ?it/s]",
      "application/vnd.jupyter.widget-view+json": {
       "version_major": 2,
       "version_minor": 0,
       "model_id": "de9457fb33614c8395f67d5b58ed4364"
      }
     },
     "metadata": {},
     "output_type": "display_data"
    },
    {
     "name": "stderr",
     "output_type": "stream",
     "text": [
      "PartitionExplainer explainer: 2it [00:59, 59.26s/it]               "
     ]
    },
    {
     "name": "stdout",
     "output_type": "stream",
     "text": [
      "1/1 [==============================] - 0s 45ms/step\n"
     ]
    },
    {
     "name": "stderr",
     "output_type": "stream",
     "text": [
      "\n"
     ]
    }
   ],
   "source": [
    "norm_layer = keras.layers.Rescaling(scale=1/255)\n",
    "to_print=norm_layer(img_array).numpy()\n",
    "shap_plot(gng_classifier, explainer, img_array, np.array([[1]]), to_print, \"shap_output\", num_images_shap=1,j=0)"
   ],
   "metadata": {
    "collapsed": false,
    "ExecuteTime": {
     "end_time": "2024-04-10T09:08:17.959321Z",
     "start_time": "2024-04-10T09:07:18.153131Z"
    }
   },
   "id": "a9deeb532a8ded3",
   "execution_count": 11
  },
  {
   "cell_type": "code",
   "outputs": [],
   "source": [
    "def plot_shap_values(model, explainer, img_array, label, output_path=\"shap_plot.png\"):\n",
    "    # Ensure img_array is four-dimensional [batch_size, height, width, channels]\n",
    "    if len(img_array.shape) == 3:\n",
    "        img_array = np.expand_dims(img_array, axis=0)\n",
    "    \n",
    "    # Generate SHAP explanations for the image\n",
    "    # This will directly call the explainer on the img_array\n",
    "    shap_explanations = explainer(img_array)\n",
    "    \n",
    "    # Make a prediction using the model\n",
    "    prediction = model.predict(img_array)\n",
    "    \n",
    "    # Determine the predicted class\n",
    "    predicted_class = np.argmax(prediction, axis=1)[0]\n",
    "    \n",
    "    # Plot SHAP values\n",
    "    # Note: shap.image_plot expects the raw explanation object\n",
    "    shap.image_plot(shap_explanations, show=False)\n",
    "    \n",
    "    # Add title with prediction and true label\n",
    "    plt.title(f\"Predicted: {predicted_class}, True: {label}\")\n",
    "    \n",
    "    # Save or show the plot\n",
    "    plt.savefig(output_path)\n",
    "    plt.close()"
   ],
   "metadata": {
    "collapsed": false,
    "ExecuteTime": {
     "end_time": "2024-04-10T09:16:26.296372Z",
     "start_time": "2024-04-10T09:16:26.283194Z"
    }
   },
   "id": "5ea4deac108aa2d6",
   "execution_count": 8
  },
  {
   "cell_type": "code",
   "outputs": [
    {
     "name": "stderr",
     "output_type": "stream",
     "text": [
      "2024-04-10 11:16:27.804222: I tensorflow/compiler/xla/stream_executor/cuda/cuda_dnn.cc:442] Loaded cuDNN version 8700\n",
      "2024-04-10 11:16:29.099775: I tensorflow/tsl/platform/default/subprocess.cc:304] Start cannot spawn child process: No such file or directory\n",
      "2024-04-10 11:16:29.107418: E tensorflow/compiler/xla/stream_executor/gpu/asm_compiler.cc:114] *** WARNING *** You are using ptxas 11.0.194, which is older than 11.1. ptxas before 11.1 is known to miscompile XLA code, leading to incorrect results or invalid-address errors.\n",
      "\n",
      "2024-04-10 11:16:29.110296: W tensorflow/compiler/xla/stream_executor/gpu/asm_compiler.cc:231] Falling back to the CUDA driver for PTX compilation; ptxas does not support CC 8.9\n",
      "2024-04-10 11:16:29.110363: W tensorflow/compiler/xla/stream_executor/gpu/asm_compiler.cc:234] Used ptxas at /usr/local/cuda/bin/ptxas\n",
      "2024-04-10 11:16:29.110658: W tensorflow/compiler/xla/stream_executor/gpu/redzone_allocator.cc:322] UNIMPLEMENTED: /usr/local/cuda/bin/ptxas ptxas too old. Falling back to the driver to compile.\n",
      "Relying on driver to perform ptx compilation. \n",
      "Modify $PATH to customize ptxas location.\n",
      "This message will be only logged once.\n",
      "2024-04-10 11:16:29.329917: I tensorflow/tsl/platform/default/subprocess.cc:304] Start cannot spawn child process: No such file or directory\n",
      "2024-04-10 11:16:29.330483: E tensorflow/compiler/xla/stream_executor/gpu/asm_compiler.cc:114] *** WARNING *** You are using ptxas 11.0.194, which is older than 11.1. ptxas before 11.1 is known to miscompile XLA code, leading to incorrect results or invalid-address errors.\n",
      "\n",
      "2024-04-10 11:16:29.335535: W tensorflow/compiler/mlir/tools/kernel_gen/transforms/gpu_kernel_to_blob_pass.cc:191] Failed to compile generated PTX with ptxas. Falling back to compilation by driver.\n",
      "2024-04-10 11:16:29.939600: E tensorflow/compiler/xla/stream_executor/gpu/asm_compiler.cc:114] *** WARNING *** You are using ptxas 11.0.194, which is older than 11.1. ptxas before 11.1 is known to miscompile XLA code, leading to incorrect results or invalid-address errors.\n",
      "\n",
      "2024-04-10 11:16:29.953550: W tensorflow/compiler/mlir/tools/kernel_gen/transforms/gpu_kernel_to_blob_pass.cc:191] Failed to compile generated PTX with ptxas. Falling back to compilation by driver.\n"
     ]
    },
    {
     "data": {
      "text/plain": "  0%|          | 0/498 [00:00<?, ?it/s]",
      "application/vnd.jupyter.widget-view+json": {
       "version_major": 2,
       "version_minor": 0,
       "model_id": "173fa265e9b341a7888393df7d3942a8"
      }
     },
     "metadata": {},
     "output_type": "display_data"
    },
    {
     "name": "stderr",
     "output_type": "stream",
     "text": [
      "PartitionExplainer explainer: 2it [00:35, 35.50s/it]               \n"
     ]
    },
    {
     "name": "stdout",
     "output_type": "stream",
     "text": [
      "1/1 [==============================] - 2s 2s/step\n"
     ]
    },
    {
     "name": "stderr",
     "output_type": "stream",
     "text": [
      "Clipping input data to the valid range for imshow with RGB data ([0..1] for floats or [0..255] for integers).\n"
     ]
    }
   ],
   "source": [
    "img_path = \"/home/tanfoni/homeRepo/tanfoni/Dataset_mtcnn_split/Test/Fake/mtcnn_stylegan3_folder_8_5752_face0.png\"\n",
    "img = image.load_img(img_path, target_size=(224, 224))\n",
    "img_array = image.img_to_array(img)\n",
    "img_array = np.expand_dims(img_array, axis=0)\n",
    "\n",
    "plot_shap_values(gng_classifier, explainer, img_array, label=\"Fake\")"
   ],
   "metadata": {
    "collapsed": false,
    "ExecuteTime": {
     "end_time": "2024-04-10T09:17:05.593339Z",
     "start_time": "2024-04-10T09:16:27.765006Z"
    }
   },
   "id": "786975b1f05ae73d",
   "execution_count": 9
  },
  {
   "cell_type": "code",
   "outputs": [],
   "source": [],
   "metadata": {
    "collapsed": false
   },
   "id": "4bc54ad2cefdcd57"
  }
 ],
 "metadata": {
  "kernelspec": {
   "display_name": "Python 3",
   "language": "python",
   "name": "python3"
  },
  "language_info": {
   "codemirror_mode": {
    "name": "ipython",
    "version": 2
   },
   "file_extension": ".py",
   "mimetype": "text/x-python",
   "name": "python",
   "nbconvert_exporter": "python",
   "pygments_lexer": "ipython2",
   "version": "2.7.6"
  }
 },
 "nbformat": 4,
 "nbformat_minor": 5
}
